{
  "nbformat": 4,
  "nbformat_minor": 0,
  "metadata": {
    "colab": {
      "provenance": []
    },
    "kernelspec": {
      "name": "python3",
      "display_name": "Python 3"
    },
    "language_info": {
      "name": "python"
    }
  },
  "cells": [
    {
      "cell_type": "code",
      "execution_count": null,
      "metadata": {
        "colab": {
          "base_uri": "https://localhost:8080/",
          "height": 141
        },
        "id": "fooBKl8FmcO4",
        "outputId": "2c2d67e8-e943-4afd-d46b-1b04919f4960"
      },
      "outputs": [
        {
          "output_type": "error",
          "ename": "NameError",
          "evalue": "name 'prit' is not defined",
          "traceback": [
            "\u001b[0;31m---------------------------------------------------------------------------\u001b[0m",
            "\u001b[0;31mNameError\u001b[0m                                 Traceback (most recent call last)",
            "\u001b[0;32m<ipython-input-3-db6dda56cc4d>\u001b[0m in \u001b[0;36m<cell line: 0>\u001b[0;34m()\u001b[0m\n\u001b[0;32m----> 1\u001b[0;31m \u001b[0mprit\u001b[0m\u001b[0;34m(\u001b[0m\u001b[0;34m\"welcome to Python world\"\u001b[0m\u001b[0;34m)\u001b[0m\u001b[0;34m\u001b[0m\u001b[0;34m\u001b[0m\u001b[0m\n\u001b[0m",
            "\u001b[0;31mNameError\u001b[0m: name 'prit' is not defined"
          ]
        }
      ],
      "source": [
        "prit(\"welcome to Python world\")"
      ]
    },
    {
      "cell_type": "code",
      "source": [
        "#NESTED FOR LOOP\n",
        "for i in \"BLR\":\n",
        "  print(\"outer loop\")\n",
        "\n",
        "  for j in [1,20,30]:\n",
        "    print(\"inner loop\")\n",
        "    print(i,j)"
      ],
      "metadata": {
        "colab": {
          "base_uri": "https://localhost:8080/"
        },
        "id": "_21SuqCI07eH",
        "outputId": "c46a67d8-5322-406f-d2f7-51000cf3a1a3"
      },
      "execution_count": 2,
      "outputs": [
        {
          "output_type": "stream",
          "name": "stdout",
          "text": [
            "outer loop\n",
            "inner loop\n",
            "B 1\n",
            "inner loop\n",
            "B 20\n",
            "inner loop\n",
            "B 30\n",
            "outer loop\n",
            "inner loop\n",
            "L 1\n",
            "inner loop\n",
            "L 20\n",
            "inner loop\n",
            "L 30\n",
            "outer loop\n",
            "inner loop\n",
            "R 1\n",
            "inner loop\n",
            "R 20\n",
            "inner loop\n",
            "R 30\n"
          ]
        }
      ]
    },
    {
      "cell_type": "markdown",
      "source": [],
      "metadata": {
        "id": "uDjG5jQ-5pmq"
      }
    },
    {
      "cell_type": "code",
      "source": [
        "# reverse a string\n",
        "str = input(\"Enter the string:\")\n",
        "print(str[::-1])"
      ],
      "metadata": {
        "colab": {
          "base_uri": "https://localhost:8080/"
        },
        "id": "T2Rjn2Bp07hB",
        "outputId": "5c259002-4489-46ad-c1f6-d16c9866dfa5"
      },
      "execution_count": 3,
      "outputs": [
        {
          "output_type": "stream",
          "name": "stdout",
          "text": [
            "Enter the string:fgfhgjkhl\n",
            "lhkjghfgf\n"
          ]
        }
      ]
    },
    {
      "cell_type": "code",
      "source": [
        "# palindrome\n",
        "str = input(\"Enter a string:\")\n",
        "\n",
        "reverse = str[::-1]\n",
        "\n",
        "if str == reverse:\n",
        "    print(\"palindrome\")\n",
        "else:\n",
        "  print(\"not a palindrome\")\n",
        "\n"
      ],
      "metadata": {
        "colab": {
          "base_uri": "https://localhost:8080/"
        },
        "id": "tDr71F5P07j_",
        "outputId": "cdfb48dd-ba12-4f4b-b6d3-625c0f35224e"
      },
      "execution_count": 36,
      "outputs": [
        {
          "output_type": "stream",
          "name": "stdout",
          "text": [
            "Enter a string:efdsfc\n",
            "not a palindrome\n"
          ]
        }
      ]
    },
    {
      "cell_type": "code",
      "source": [
        "#string deletion\n",
        "s1 = \"apple\"\n",
        "print(s1)\n",
        "del s1\n",
        "print(s1)"
      ],
      "metadata": {
        "colab": {
          "base_uri": "https://localhost:8080/",
          "height": 193
        },
        "id": "JcjFOZH607nV",
        "outputId": "977419a5-4131-4c84-ac0d-fd9ff3f9dc47"
      },
      "execution_count": 19,
      "outputs": [
        {
          "output_type": "stream",
          "name": "stdout",
          "text": [
            "apple\n"
          ]
        },
        {
          "output_type": "error",
          "ename": "NameError",
          "evalue": "name 's1' is not defined",
          "traceback": [
            "\u001b[0;31m---------------------------------------------------------------------------\u001b[0m",
            "\u001b[0;31mNameError\u001b[0m                                 Traceback (most recent call last)",
            "\u001b[0;32m<ipython-input-19-8d1405d7cce2>\u001b[0m in \u001b[0;36m<cell line: 0>\u001b[0;34m()\u001b[0m\n\u001b[1;32m      3\u001b[0m \u001b[0mprint\u001b[0m\u001b[0;34m(\u001b[0m\u001b[0ms1\u001b[0m\u001b[0;34m)\u001b[0m\u001b[0;34m\u001b[0m\u001b[0;34m\u001b[0m\u001b[0m\n\u001b[1;32m      4\u001b[0m \u001b[0;32mdel\u001b[0m \u001b[0ms1\u001b[0m\u001b[0;34m\u001b[0m\u001b[0;34m\u001b[0m\u001b[0m\n\u001b[0;32m----> 5\u001b[0;31m \u001b[0mprint\u001b[0m\u001b[0;34m(\u001b[0m\u001b[0ms1\u001b[0m\u001b[0;34m)\u001b[0m\u001b[0;34m\u001b[0m\u001b[0;34m\u001b[0m\u001b[0m\n\u001b[0m",
            "\u001b[0;31mNameError\u001b[0m: name 's1' is not defined"
          ]
        }
      ]
    },
    {
      "cell_type": "code",
      "source": [
        "# count\n",
        "str = input(\"Enter the string\")\n",
        "c = str.count('co')\n",
        "print(\"length:\",c)"
      ],
      "metadata": {
        "colab": {
          "base_uri": "https://localhost:8080/"
        },
        "id": "Sfn1RSnDAxm3",
        "outputId": "49b55003-fb20-41f4-9a03-b8d88873922f"
      },
      "execution_count": 20,
      "outputs": [
        {
          "output_type": "stream",
          "name": "stdout",
          "text": [
            "Enter the stringcountcount\n",
            "length: 2\n"
          ]
        }
      ]
    },
    {
      "cell_type": "code",
      "source": [
        "#count with starting index\n",
        "str = input(\"Enter the string\")\n",
        "c = str.count('co',1,)\n",
        "print(\"length:\",c)"
      ],
      "metadata": {
        "colab": {
          "base_uri": "https://localhost:8080/"
        },
        "id": "KY29R59CAxpo",
        "outputId": "2a16d9fb-9ecd-46ef-c1fa-5f12f1faca26"
      },
      "execution_count": 21,
      "outputs": [
        {
          "output_type": "stream",
          "name": "stdout",
          "text": [
            "Enter the stringcountcount\n",
            "length: 1\n"
          ]
        }
      ]
    },
    {
      "cell_type": "code",
      "source": [
        "#concatenation\n",
        "s1 = \"apple\"\n",
        "s2 = \"banana\"\n",
        "print(s1+s2)\n",
        "print(s1*3)\n"
      ],
      "metadata": {
        "colab": {
          "base_uri": "https://localhost:8080/"
        },
        "id": "mvJbxEd9AxsZ",
        "outputId": "4daa67df-1d84-418c-bbf0-e24f5988a4de"
      },
      "execution_count": 23,
      "outputs": [
        {
          "output_type": "stream",
          "name": "stdout",
          "text": [
            "applebanana\n",
            "appleappleapple\n"
          ]
        }
      ]
    },
    {
      "cell_type": "code",
      "source": [
        "#startswith\n",
        "a = \"abcde\"\n",
        "b = \"abcde\"\n",
        "if a.startswith(b):\n",
        "  print(\"true\")\n",
        "else:\n",
        "  print(\"false\")"
      ],
      "metadata": {
        "colab": {
          "base_uri": "https://localhost:8080/"
        },
        "id": "DJI6hAc2AxwE",
        "outputId": "aa5b5a79-249e-4fc8-f4ab-8dc9715ad9e5"
      },
      "execution_count": 38,
      "outputs": [
        {
          "output_type": "stream",
          "name": "stdout",
          "text": [
            "true\n"
          ]
        }
      ]
    },
    {
      "cell_type": "code",
      "source": [
        "#endswith\n",
        "a = input(\"enter the string:\")\n",
        "if a.endswith(\".com\"):\n",
        "  print(\"commercial website\")\n",
        "elif a.endswith(\".edu\"):\n",
        "  print(\"educational website\")\n",
        "else:\n",
        "  print(\"website\")\n"
      ],
      "metadata": {
        "id": "5XEEprJSG7FX",
        "outputId": "9e7e39a0-28c2-4e42-e1ca-e46fca261db6",
        "colab": {
          "base_uri": "https://localhost:8080/"
        }
      },
      "execution_count": 39,
      "outputs": [
        {
          "output_type": "stream",
          "name": "stdout",
          "text": [
            "enter the string:asfgg.com\n",
            "commercial website\n"
          ]
        }
      ]
    },
    {
      "cell_type": "code",
      "source": [
        "# lstrip\n",
        "name = input(\"enter the name\")\n",
        "print(name)\n",
        "name = name.lstrip()\n",
        "print(name)"
      ],
      "metadata": {
        "id": "5P05oqpTH894",
        "outputId": "fc86ba2c-eab5-4bd2-b4d9-3e6ad92a81a9",
        "colab": {
          "base_uri": "https://localhost:8080/"
        }
      },
      "execution_count": 44,
      "outputs": [
        {
          "output_type": "stream",
          "name": "stdout",
          "text": [
            "enter the name   cghvhjbk\n",
            "   cghvhjbk\n",
            "cghvhjbk\n"
          ]
        }
      ]
    },
    {
      "cell_type": "code",
      "source": [
        "#lstrip with arguments passed\n",
        "name = input(\"enter the name\")\n",
        "print(name)\n",
        "name = name.lstrip('a')\n",
        "print(name)"
      ],
      "metadata": {
        "id": "N7jOUa96H9Dd",
        "outputId": "0edecb70-7453-4e45-9c58-955c3f67ab97",
        "colab": {
          "base_uri": "https://localhost:8080/"
        }
      },
      "execution_count": 46,
      "outputs": [
        {
          "output_type": "stream",
          "name": "stdout",
          "text": [
            "enter the nameaaauto\n",
            "aaauto\n",
            "uto\n"
          ]
        }
      ]
    },
    {
      "cell_type": "code",
      "source": [
        "#lstrip with one argument passed removes all\n",
        "url = [\"http://www.myntra.com\",\"http://www.ajio.com\",\"http://www.cricbuzz.com\"]\n",
        "\n",
        "for i in url:\n",
        "  #i = i.lstrip(\"http://www.\")\n",
        "  i = i.lstrip(\"htp:/w.\")\n",
        "  print(i)"
      ],
      "metadata": {
        "colab": {
          "base_uri": "https://localhost:8080/"
        },
        "id": "tkxHktmAH9G5",
        "outputId": "c15f8089-c62c-4adc-dc18-4a09aa1ddfd2"
      },
      "execution_count": 48,
      "outputs": [
        {
          "output_type": "stream",
          "name": "stdout",
          "text": [
            "myntra.com\n",
            "ajio.com\n",
            "cricbuzz.com\n"
          ]
        }
      ]
    },
    {
      "cell_type": "code",
      "source": [
        "a = 10\n",
        "print(a)\n",
        "print(id(a))"
      ],
      "metadata": {
        "colab": {
          "base_uri": "https://localhost:8080/"
        },
        "id": "l9I2xtiS8muH",
        "outputId": "41c3dfde-f589-4222-ad05-dbe00bc30c5b"
      },
      "execution_count": null,
      "outputs": [
        {
          "output_type": "stream",
          "name": "stdout",
          "text": [
            "10\n",
            "10751144\n"
          ]
        }
      ]
    },
    {
      "cell_type": "code",
      "source": [
        "2+3"
      ],
      "metadata": {
        "colab": {
          "base_uri": "https://localhost:8080/"
        },
        "id": "456iibnZml4b",
        "outputId": "98005d39-dad6-427f-90f5-a6fad527d64b"
      },
      "execution_count": null,
      "outputs": [
        {
          "output_type": "execute_result",
          "data": {
            "text/plain": [
              "5"
            ]
          },
          "metadata": {},
          "execution_count": 2
        }
      ]
    }
  ]
}