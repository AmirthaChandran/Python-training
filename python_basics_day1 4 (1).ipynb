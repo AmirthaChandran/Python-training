{
  "nbformat": 4,
  "nbformat_minor": 0,
  "metadata": {
    "colab": {
      "provenance": []
    },
    "kernelspec": {
      "name": "python3",
      "display_name": "Python 3"
    },
    "language_info": {
      "name": "python"
    }
  },
  "cells": [
    {
      "cell_type": "code",
      "execution_count": null,
      "metadata": {
        "colab": {
          "base_uri": "https://localhost:8080/",
          "height": 141
        },
        "id": "fooBKl8FmcO4",
        "outputId": "2c2d67e8-e943-4afd-d46b-1b04919f4960"
      },
      "outputs": [
        {
          "output_type": "error",
          "ename": "NameError",
          "evalue": "name 'prit' is not defined",
          "traceback": [
            "\u001b[0;31m---------------------------------------------------------------------------\u001b[0m",
            "\u001b[0;31mNameError\u001b[0m                                 Traceback (most recent call last)",
            "\u001b[0;32m<ipython-input-3-db6dda56cc4d>\u001b[0m in \u001b[0;36m<cell line: 0>\u001b[0;34m()\u001b[0m\n\u001b[0;32m----> 1\u001b[0;31m \u001b[0mprit\u001b[0m\u001b[0;34m(\u001b[0m\u001b[0;34m\"welcome to Python world\"\u001b[0m\u001b[0;34m)\u001b[0m\u001b[0;34m\u001b[0m\u001b[0;34m\u001b[0m\u001b[0m\n\u001b[0m",
            "\u001b[0;31mNameError\u001b[0m: name 'prit' is not defined"
          ]
        }
      ],
      "source": [
        "prit(\"welcome to Python world\")"
      ]
    },
    {
      "cell_type": "code",
      "source": [
        "#List[find type]\n",
        "l = [10,20,'ntt',1.1]\n",
        "print(l)\n",
        "print(type(l))"
      ],
      "metadata": {
        "colab": {
          "base_uri": "https://localhost:8080/"
        },
        "id": "EBd-KSHUymfn",
        "outputId": "2613fda4-855e-4b5e-a778-b46508f2c52a"
      },
      "execution_count": null,
      "outputs": [
        {
          "output_type": "stream",
          "name": "stdout",
          "text": [
            "[10, 20, 'ntt', 1.1]\n",
            "<class 'list'>\n"
          ]
        }
      ]
    },
    {
      "cell_type": "code",
      "source": [
        "#list indexing\n",
        "l = [10,20.3,3.15,\"ntt\",[1,2,3]]\n",
        "print(l[1])\n",
        "print(l[-2])\n",
        "print(l[4])\n",
        "print(l[4][1])"
      ],
      "metadata": {
        "colab": {
          "base_uri": "https://localhost:8080/"
        },
        "id": "fmuhK3b3ymig",
        "outputId": "44998408-7557-4259-ebc4-0a5b6c014979"
      },
      "execution_count": null,
      "outputs": [
        {
          "output_type": "stream",
          "name": "stdout",
          "text": [
            "20.3\n",
            "ntt\n",
            "[1, 2, 3]\n",
            "2\n"
          ]
        }
      ]
    },
    {
      "cell_type": "code",
      "source": [
        "#list slicing\n",
        "l= [10,20,2.3,\"ntt\",[1,2,3]]\n",
        "print(l[::])\n",
        "print(l[::-1])"
      ],
      "metadata": {
        "colab": {
          "base_uri": "https://localhost:8080/"
        },
        "id": "0QETTeNBymld",
        "outputId": "d62677e4-adf0-4ffd-889a-6626afa354bf"
      },
      "execution_count": null,
      "outputs": [
        {
          "output_type": "stream",
          "name": "stdout",
          "text": [
            "[10, 20, 2.3, 'ntt', [1, 2, 3]]\n",
            "[[1, 2, 3], 'ntt', 2.3, 20, 10]\n"
          ]
        }
      ]
    },
    {
      "cell_type": "code",
      "source": [
        "#LIST Delete\n",
        "l= [10,20,30,40,50]\n",
        "print(l)\n",
        "del(l[0])\n",
        "del(l[1:3:1])\n",
        "print(l)"
      ],
      "metadata": {
        "colab": {
          "base_uri": "https://localhost:8080/"
        },
        "id": "0159f23Hymon",
        "outputId": "564582d9-85db-4425-f82a-c0d64cd616a7"
      },
      "execution_count": null,
      "outputs": [
        {
          "output_type": "stream",
          "name": "stdout",
          "text": [
            "[10, 20, 30, 40, 50]\n",
            "[20, 50]\n"
          ]
        }
      ]
    },
    {
      "cell_type": "code",
      "source": [
        "#LIST ITERATION\n",
        "\n",
        "l1= [10,20,30]\n",
        "\n",
        "for i in l1:\n",
        "  print(i+1)"
      ],
      "metadata": {
        "id": "GCr40Fl0T0Pv",
        "outputId": "4fdce49d-7e99-41b0-e333-cced7be12bcf",
        "colab": {
          "base_uri": "https://localhost:8080/"
        }
      },
      "execution_count": null,
      "outputs": [
        {
          "output_type": "stream",
          "name": "stdout",
          "text": [
            "11\n",
            "21\n",
            "31\n"
          ]
        }
      ]
    },
    {
      "cell_type": "code",
      "source": [
        "# list membership\n",
        "\n",
        "l1 = [10,20,30]\n",
        "print(10 in l1)\n",
        "print(40 in l1)\n",
        "print(40 not in l1)\n",
        "print('10' in l1)\n"
      ],
      "metadata": {
        "id": "_9jziD1BT0Sc",
        "outputId": "0a507ab0-9439-4f7b-c86b-40b280055c45",
        "colab": {
          "base_uri": "https://localhost:8080/"
        }
      },
      "execution_count": null,
      "outputs": [
        {
          "output_type": "stream",
          "name": "stdout",
          "text": [
            "True\n",
            "False\n",
            "True\n",
            "False\n"
          ]
        }
      ]
    },
    {
      "cell_type": "code",
      "source": [
        "#list maximum with no argument\n",
        "l = [10,20,30]\n",
        "print(max(l))\n",
        "l1 = [\"apple\",\"Bananass\",\"Orange\"]\n",
        "print(max(l1))\n",
        "\n",
        "#list with key\n",
        "l2 = [\"apple\",\"bananass\"]\n",
        "print(max(l1,key = len))\n",
        "\n",
        "#list with default[used only when list is empty to avoid error]\n",
        "\n",
        "l3 = []\n",
        "print(max(l3,default = \"list is empty\"))\n",
        "print(max(l3,default = 1))"
      ],
      "metadata": {
        "colab": {
          "base_uri": "https://localhost:8080/"
        },
        "id": "f91QpcCtymvD",
        "outputId": "0a41fdb1-9dcd-4c75-998d-c80201c0d785"
      },
      "execution_count": null,
      "outputs": [
        {
          "output_type": "stream",
          "name": "stdout",
          "text": [
            "30\n",
            "apple\n",
            "Bananass\n",
            "list is empty\n",
            "1\n"
          ]
        }
      ]
    },
    {
      "cell_type": "code",
      "source": [
        "#list minimum with no argument\n",
        "l = [10,20,30]\n",
        "print(min(l))\n",
        "l1 = [\"apple\",\"Bananass\",\"Orange\"]\n",
        "print(min(l1))\n",
        "\n",
        "#list with key\n",
        "l2 = [\"apple\",\"bananass\"]\n",
        "print(min(l1,key = len))\n",
        "\n",
        "#list with default[used only when list is empty to avoid error]\n",
        "\n",
        "l3 = []\n",
        "print(min(l3,default = \"list is empty\"))\n",
        "print(min(l3,default = 1))\n"
      ],
      "metadata": {
        "id": "0ei_zdilCMsM",
        "outputId": "b2340c22-7bc6-4a56-c7b7-0e8b4dff928c",
        "colab": {
          "base_uri": "https://localhost:8080/"
        }
      },
      "execution_count": null,
      "outputs": [
        {
          "output_type": "stream",
          "name": "stdout",
          "text": [
            "10\n",
            "Bananass\n",
            "apple\n",
            "list is empty\n",
            "1\n"
          ]
        }
      ]
    },
    {
      "cell_type": "code",
      "source": [],
      "metadata": {
        "id": "uFpwiR9wymrg"
      },
      "execution_count": null,
      "outputs": []
    },
    {
      "cell_type": "code",
      "source": [
        "#append\n",
        "l1 = [10,20,30]\n",
        "l1.append(50)\n",
        "print(l1)"
      ],
      "metadata": {
        "id": "9WU3DZThT0WG",
        "outputId": "63056a97-95a7-4ad8-f13f-00c4ede2de65",
        "colab": {
          "base_uri": "https://localhost:8080/"
        }
      },
      "execution_count": null,
      "outputs": [
        {
          "output_type": "stream",
          "name": "stdout",
          "text": [
            "[10, 20, 30, 50]\n"
          ]
        }
      ]
    },
    {
      "cell_type": "code",
      "source": [
        "# append multiple elements\n",
        "l1 = [10,20,30]\n",
        "b= [1,2,3,4,5]\n",
        "for i in b:\n",
        "  number = int(input(\"Enter number\"))\n",
        "  l1.append(number)\n",
        "  print(l1)\n",
        "\n",
        "\n"
      ],
      "metadata": {
        "id": "H9tjm4dbT0bW",
        "outputId": "fb9e1f61-38b0-414a-ed93-41f8e3ecf4c4",
        "colab": {
          "base_uri": "https://localhost:8080/"
        }
      },
      "execution_count": null,
      "outputs": [
        {
          "output_type": "stream",
          "name": "stdout",
          "text": [
            "Enter number40\n",
            "[10, 20, 30, 40]\n",
            "Enter number50\n",
            "[10, 20, 30, 40, 50]\n",
            "Enter number60\n",
            "[10, 20, 30, 40, 50, 60]\n",
            "Enter number70\n",
            "[10, 20, 30, 40, 50, 60, 70]\n",
            "Enter number80\n",
            "[10, 20, 30, 40, 50, 60, 70, 80]\n"
          ]
        }
      ]
    },
    {
      "cell_type": "code",
      "source": [
        "# extend[multiple element added at single time]\n",
        "\n",
        "l1= [10,20,30]\n",
        "l1.extend([1,2,3,4,5])\n",
        "print(l1)\n"
      ],
      "metadata": {
        "id": "gj6P2iBJT0ew",
        "outputId": "31a36f91-0d1d-40b0-a736-79ad85fa28b6",
        "colab": {
          "base_uri": "https://localhost:8080/"
        }
      },
      "execution_count": null,
      "outputs": [
        {
          "output_type": "stream",
          "name": "stdout",
          "text": [
            "[10, 20, 30, 1, 2, 3, 4, 5]\n"
          ]
        }
      ]
    },
    {
      "cell_type": "code",
      "source": [
        "#insert\n",
        "l1 = [10,20,30]\n",
        "l1.insert(1,15)\n",
        "print(l1)"
      ],
      "metadata": {
        "id": "bchBdzL2h7aF",
        "outputId": "47c55e61-5271-438d-aa5e-1514eb327141",
        "colab": {
          "base_uri": "https://localhost:8080/"
        }
      },
      "execution_count": null,
      "outputs": [
        {
          "output_type": "stream",
          "name": "stdout",
          "text": [
            "[10, 15, 20, 30]\n"
          ]
        }
      ]
    },
    {
      "cell_type": "code",
      "source": [
        "#remove\n",
        "l1 = [10,20,30]\n",
        "l1.remove(20)\n",
        "print(l1)"
      ],
      "metadata": {
        "id": "oXmS3mUlh7cr",
        "outputId": "bd1c77e9-e197-454e-b97b-a627c0509dcf",
        "colab": {
          "base_uri": "https://localhost:8080/"
        }
      },
      "execution_count": null,
      "outputs": [
        {
          "output_type": "stream",
          "name": "stdout",
          "text": [
            "[10, 30]\n"
          ]
        }
      ]
    },
    {
      "cell_type": "code",
      "source": [
        "#pop with argument\n",
        "l1 = [10,20,30]\n",
        "l1.pop(1)\n",
        "print(l1)"
      ],
      "metadata": {
        "id": "-NaMt8erh7fT",
        "outputId": "19c8b4d8-efea-43bc-892b-4631d6b7efdb",
        "colab": {
          "base_uri": "https://localhost:8080/"
        }
      },
      "execution_count": null,
      "outputs": [
        {
          "output_type": "stream",
          "name": "stdout",
          "text": [
            "[10, 30]\n"
          ]
        }
      ]
    },
    {
      "cell_type": "code",
      "source": [
        "#pop without argument\n",
        "l1 = [10,20,30]\n",
        "l1.pop()\n",
        "print(l1)"
      ],
      "metadata": {
        "id": "whE-KEt4h7i-",
        "outputId": "4e9ca1d8-1c39-4044-ac5c-9c8513e1c628",
        "colab": {
          "base_uri": "https://localhost:8080/"
        }
      },
      "execution_count": null,
      "outputs": [
        {
          "output_type": "stream",
          "name": "stdout",
          "text": [
            "[10, 20]\n"
          ]
        }
      ]
    },
    {
      "cell_type": "code",
      "source": [
        "#clear\n",
        "l1 = [10,20,30]\n",
        "l1.clear()\n",
        "print(l1)"
      ],
      "metadata": {
        "id": "aprFsFfHlQ8z",
        "outputId": "8c4a6532-c44a-43f9-8bc7-30ba4a6adbdc",
        "colab": {
          "base_uri": "https://localhost:8080/"
        }
      },
      "execution_count": null,
      "outputs": [
        {
          "output_type": "stream",
          "name": "stdout",
          "text": [
            "[]\n"
          ]
        }
      ]
    },
    {
      "cell_type": "code",
      "source": [
        "#del\n",
        "l1 = [10,20,30]\n",
        "del l1\n",
        "print(l1)"
      ],
      "metadata": {
        "id": "53RU1YQ-lTVa",
        "outputId": "086df4d9-6bbc-40f4-cf1e-30d284550106",
        "colab": {
          "base_uri": "https://localhost:8080/",
          "height": 176
        }
      },
      "execution_count": null,
      "outputs": [
        {
          "output_type": "error",
          "ename": "NameError",
          "evalue": "name 'l1' is not defined",
          "traceback": [
            "\u001b[0;31m---------------------------------------------------------------------------\u001b[0m",
            "\u001b[0;31mNameError\u001b[0m                                 Traceback (most recent call last)",
            "\u001b[0;32m<ipython-input-18-edb820bdaa79>\u001b[0m in \u001b[0;36m<cell line: 0>\u001b[0;34m()\u001b[0m\n\u001b[1;32m      2\u001b[0m \u001b[0ml1\u001b[0m \u001b[0;34m=\u001b[0m \u001b[0;34m[\u001b[0m\u001b[0;36m10\u001b[0m\u001b[0;34m,\u001b[0m\u001b[0;36m20\u001b[0m\u001b[0;34m,\u001b[0m\u001b[0;36m30\u001b[0m\u001b[0;34m]\u001b[0m\u001b[0;34m\u001b[0m\u001b[0;34m\u001b[0m\u001b[0m\n\u001b[1;32m      3\u001b[0m \u001b[0;32mdel\u001b[0m \u001b[0ml1\u001b[0m\u001b[0;34m\u001b[0m\u001b[0;34m\u001b[0m\u001b[0m\n\u001b[0;32m----> 4\u001b[0;31m \u001b[0mprint\u001b[0m\u001b[0;34m(\u001b[0m\u001b[0ml1\u001b[0m\u001b[0;34m)\u001b[0m\u001b[0;34m\u001b[0m\u001b[0;34m\u001b[0m\u001b[0m\n\u001b[0m",
            "\u001b[0;31mNameError\u001b[0m: name 'l1' is not defined"
          ]
        }
      ]
    },
    {
      "cell_type": "code",
      "source": [
        "#NESTED FOR LOOP\n",
        "for i in \"BLR\":\n",
        "  print(\"outer loop\")\n",
        "\n",
        "  for j in [1,20,30]:\n",
        "    print(\"inner loop\")\n",
        "    print(i,j)"
      ],
      "metadata": {
        "colab": {
          "base_uri": "https://localhost:8080/"
        },
        "id": "_21SuqCI07eH",
        "outputId": "c46a67d8-5322-406f-d2f7-51000cf3a1a3"
      },
      "execution_count": null,
      "outputs": [
        {
          "output_type": "stream",
          "name": "stdout",
          "text": [
            "outer loop\n",
            "inner loop\n",
            "B 1\n",
            "inner loop\n",
            "B 20\n",
            "inner loop\n",
            "B 30\n",
            "outer loop\n",
            "inner loop\n",
            "L 1\n",
            "inner loop\n",
            "L 20\n",
            "inner loop\n",
            "L 30\n",
            "outer loop\n",
            "inner loop\n",
            "R 1\n",
            "inner loop\n",
            "R 20\n",
            "inner loop\n",
            "R 30\n"
          ]
        }
      ]
    },
    {
      "cell_type": "markdown",
      "source": [],
      "metadata": {
        "id": "uDjG5jQ-5pmq"
      }
    },
    {
      "cell_type": "code",
      "source": [
        "# reverse a string\n",
        "str = input(\"Enter the string:\")\n",
        "print(str[::-1])"
      ],
      "metadata": {
        "colab": {
          "base_uri": "https://localhost:8080/"
        },
        "id": "T2Rjn2Bp07hB",
        "outputId": "5c259002-4489-46ad-c1f6-d16c9866dfa5"
      },
      "execution_count": null,
      "outputs": [
        {
          "output_type": "stream",
          "name": "stdout",
          "text": [
            "Enter the string:fgfhgjkhl\n",
            "lhkjghfgf\n"
          ]
        }
      ]
    },
    {
      "cell_type": "code",
      "source": [
        "# palindrome\n",
        "str = input(\"Enter a string:\")\n",
        "\n",
        "reverse = str[::-1]\n",
        "\n",
        "if str == reverse:\n",
        "    print(\"palindrome\")\n",
        "else:\n",
        "  print(\"not a palindrome\")\n",
        "\n"
      ],
      "metadata": {
        "colab": {
          "base_uri": "https://localhost:8080/"
        },
        "id": "tDr71F5P07j_",
        "outputId": "cdfb48dd-ba12-4f4b-b6d3-625c0f35224e"
      },
      "execution_count": null,
      "outputs": [
        {
          "output_type": "stream",
          "name": "stdout",
          "text": [
            "Enter a string:efdsfc\n",
            "not a palindrome\n"
          ]
        }
      ]
    },
    {
      "cell_type": "code",
      "source": [
        "#string deletion\n",
        "s1 = \"apple\"\n",
        "print(s1)\n",
        "del s1\n",
        "print(s1)"
      ],
      "metadata": {
        "colab": {
          "base_uri": "https://localhost:8080/",
          "height": 193
        },
        "id": "JcjFOZH607nV",
        "outputId": "977419a5-4131-4c84-ac0d-fd9ff3f9dc47"
      },
      "execution_count": null,
      "outputs": [
        {
          "output_type": "stream",
          "name": "stdout",
          "text": [
            "apple\n"
          ]
        },
        {
          "output_type": "error",
          "ename": "NameError",
          "evalue": "name 's1' is not defined",
          "traceback": [
            "\u001b[0;31m---------------------------------------------------------------------------\u001b[0m",
            "\u001b[0;31mNameError\u001b[0m                                 Traceback (most recent call last)",
            "\u001b[0;32m<ipython-input-19-8d1405d7cce2>\u001b[0m in \u001b[0;36m<cell line: 0>\u001b[0;34m()\u001b[0m\n\u001b[1;32m      3\u001b[0m \u001b[0mprint\u001b[0m\u001b[0;34m(\u001b[0m\u001b[0ms1\u001b[0m\u001b[0;34m)\u001b[0m\u001b[0;34m\u001b[0m\u001b[0;34m\u001b[0m\u001b[0m\n\u001b[1;32m      4\u001b[0m \u001b[0;32mdel\u001b[0m \u001b[0ms1\u001b[0m\u001b[0;34m\u001b[0m\u001b[0;34m\u001b[0m\u001b[0m\n\u001b[0;32m----> 5\u001b[0;31m \u001b[0mprint\u001b[0m\u001b[0;34m(\u001b[0m\u001b[0ms1\u001b[0m\u001b[0;34m)\u001b[0m\u001b[0;34m\u001b[0m\u001b[0;34m\u001b[0m\u001b[0m\n\u001b[0m",
            "\u001b[0;31mNameError\u001b[0m: name 's1' is not defined"
          ]
        }
      ]
    },
    {
      "cell_type": "code",
      "source": [
        "# count\n",
        "str = input(\"Enter the string\")\n",
        "c = str.count('co')\n",
        "print(\"length:\",c)"
      ],
      "metadata": {
        "colab": {
          "base_uri": "https://localhost:8080/"
        },
        "id": "Sfn1RSnDAxm3",
        "outputId": "49b55003-fb20-41f4-9a03-b8d88873922f"
      },
      "execution_count": null,
      "outputs": [
        {
          "output_type": "stream",
          "name": "stdout",
          "text": [
            "Enter the stringcountcount\n",
            "length: 2\n"
          ]
        }
      ]
    },
    {
      "cell_type": "code",
      "source": [
        "#count with starting index\n",
        "str = input(\"Enter the string\")\n",
        "c = str.count('co',1,)\n",
        "print(\"length:\",c)"
      ],
      "metadata": {
        "colab": {
          "base_uri": "https://localhost:8080/"
        },
        "id": "KY29R59CAxpo",
        "outputId": "2a16d9fb-9ecd-46ef-c1fa-5f12f1faca26"
      },
      "execution_count": null,
      "outputs": [
        {
          "output_type": "stream",
          "name": "stdout",
          "text": [
            "Enter the stringcountcount\n",
            "length: 1\n"
          ]
        }
      ]
    },
    {
      "cell_type": "code",
      "source": [
        "#concatenation\n",
        "s1 = \"apple\"\n",
        "s2 = \"banana\"\n",
        "print(s1+s2)\n",
        "print(s1*3)\n"
      ],
      "metadata": {
        "colab": {
          "base_uri": "https://localhost:8080/"
        },
        "id": "mvJbxEd9AxsZ",
        "outputId": "4daa67df-1d84-418c-bbf0-e24f5988a4de"
      },
      "execution_count": null,
      "outputs": [
        {
          "output_type": "stream",
          "name": "stdout",
          "text": [
            "applebanana\n",
            "appleappleapple\n"
          ]
        }
      ]
    },
    {
      "cell_type": "code",
      "source": [
        "#startswith\n",
        "a = \"abcde\"\n",
        "b = \"abcde\"\n",
        "if a.startswith(b):\n",
        "  print(\"true\")\n",
        "else:\n",
        "  print(\"false\")"
      ],
      "metadata": {
        "colab": {
          "base_uri": "https://localhost:8080/"
        },
        "id": "DJI6hAc2AxwE",
        "outputId": "aa5b5a79-249e-4fc8-f4ab-8dc9715ad9e5"
      },
      "execution_count": null,
      "outputs": [
        {
          "output_type": "stream",
          "name": "stdout",
          "text": [
            "true\n"
          ]
        }
      ]
    },
    {
      "cell_type": "code",
      "source": [
        "#endswith\n",
        "a = input(\"enter the string:\")\n",
        "if a.endswith(\".com\"):\n",
        "  print(\"commercial website\")\n",
        "elif a.endswith(\".edu\"):\n",
        "  print(\"educational website\")\n",
        "else:\n",
        "  print(\"website\")\n"
      ],
      "metadata": {
        "colab": {
          "base_uri": "https://localhost:8080/"
        },
        "id": "5XEEprJSG7FX",
        "outputId": "9e7e39a0-28c2-4e42-e1ca-e46fca261db6"
      },
      "execution_count": null,
      "outputs": [
        {
          "output_type": "stream",
          "name": "stdout",
          "text": [
            "enter the string:asfgg.com\n",
            "commercial website\n"
          ]
        }
      ]
    },
    {
      "cell_type": "code",
      "source": [
        "# lstrip[removes left side]\n",
        "name = input(\"enter the name\")\n",
        "print(name)\n",
        "name = name.lstrip()\n",
        "print(name)"
      ],
      "metadata": {
        "colab": {
          "base_uri": "https://localhost:8080/"
        },
        "id": "5P05oqpTH894",
        "outputId": "fc86ba2c-eab5-4bd2-b4d9-3e6ad92a81a9"
      },
      "execution_count": null,
      "outputs": [
        {
          "output_type": "stream",
          "name": "stdout",
          "text": [
            "enter the name   cghvhjbk\n",
            "   cghvhjbk\n",
            "cghvhjbk\n"
          ]
        }
      ]
    },
    {
      "cell_type": "code",
      "source": [
        "#lstrip with arguments passed\n",
        "name = input(\"enter the name\")\n",
        "print(name)\n",
        "name = name.lstrip('a')\n",
        "print(name)"
      ],
      "metadata": {
        "colab": {
          "base_uri": "https://localhost:8080/"
        },
        "id": "N7jOUa96H9Dd",
        "outputId": "0edecb70-7453-4e45-9c58-955c3f67ab97"
      },
      "execution_count": null,
      "outputs": [
        {
          "output_type": "stream",
          "name": "stdout",
          "text": [
            "enter the nameaaauto\n",
            "aaauto\n",
            "uto\n"
          ]
        }
      ]
    },
    {
      "cell_type": "code",
      "source": [
        "#lstrip with one argument passed removes all\n",
        "url = [\"http://www.myntra.com\",\"http://www.ajio.com\",\"http://www.cricbuzz.com\"]\n",
        "\n",
        "for i in url:\n",
        "  #i = i.lstrip(\"http://www.\")\n",
        "  i = i.lstrip(\"htp:/w.\")\n",
        "  print(i)"
      ],
      "metadata": {
        "colab": {
          "base_uri": "https://localhost:8080/"
        },
        "id": "tkxHktmAH9G5",
        "outputId": "ab104be3-0c24-4b30-cc99-237f8981600a"
      },
      "execution_count": null,
      "outputs": [
        {
          "output_type": "stream",
          "name": "stdout",
          "text": [
            "myntra.com\n",
            "ajio.com\n",
            "cricbuzz.com\n"
          ]
        }
      ]
    },
    {
      "cell_type": "code",
      "source": [
        "#Rstrip\n",
        "url = [\"http:\\www.amazon.com\"]\n",
        "for i in url:\n",
        "  i = i.rstrip(\"cm\")\n",
        "  print(i)"
      ],
      "metadata": {
        "colab": {
          "base_uri": "https://localhost:8080/"
        },
        "id": "qNHmLmDhS-32",
        "outputId": "60e9920b-9f4d-43ab-a201-7d108516b8ca"
      },
      "execution_count": null,
      "outputs": [
        {
          "output_type": "stream",
          "name": "stdout",
          "text": [
            "http:\\www.amazon.co\n"
          ]
        }
      ]
    },
    {
      "cell_type": "code",
      "source": [
        "#strip\n",
        "url = [\"http://www.myntra.com\",\"http://www.ajio.com\",\"http://www.cricbuzz.com\"]\n",
        "\n",
        "for i in url:\n",
        "  i = i.strip(\"http:com\")\n",
        "  print(i)"
      ],
      "metadata": {
        "colab": {
          "base_uri": "https://localhost:8080/"
        },
        "id": "naaPeglHS_SY",
        "outputId": "616b8733-f958-45ae-f39c-59de48f1686c"
      },
      "execution_count": null,
      "outputs": [
        {
          "output_type": "stream",
          "name": "stdout",
          "text": [
            "//www.myntra.\n",
            "//www.ajio.\n",
            "//www.cricbuzz.\n"
          ]
        }
      ]
    },
    {
      "cell_type": "code",
      "source": [
        "#strip[removes both sides]\n",
        "url = [\"http://www.myntra.com\",\"http://www.ajio.com\",\"http://www.cricbuzz.com\"]\n",
        "\n",
        "for i in url:\n",
        "  i = i.strip(\"http:com\")\n",
        "  print(i)"
      ],
      "metadata": {
        "id": "2QRt3-l-NiQf",
        "outputId": "1b5ff9fa-f825-4341-9c79-2e25a1a37ed6",
        "colab": {
          "base_uri": "https://localhost:8080/"
        }
      },
      "execution_count": null,
      "outputs": [
        {
          "output_type": "stream",
          "name": "stdout",
          "text": [
            "//www.myntra.\n",
            "//www.ajio.\n",
            "//www.cricbuzz.\n"
          ]
        }
      ]
    },
    {
      "cell_type": "code",
      "source": [
        "#SPLIT\n",
        "s = \"I live in pondicherry\"\n",
        "s.split()\n"
      ],
      "metadata": {
        "colab": {
          "base_uri": "https://localhost:8080/"
        },
        "id": "KYJwBc6FnNnv",
        "outputId": "e40e7f5c-db72-48b9-dbcc-6399ecc7523a"
      },
      "execution_count": null,
      "outputs": [
        {
          "output_type": "execute_result",
          "data": {
            "text/plain": [
              "['I', 'live', 'in', 'pondicherry']"
            ]
          },
          "metadata": {},
          "execution_count": 7
        }
      ]
    },
    {
      "cell_type": "code",
      "source": [
        "#split with arguments passed\n",
        "s = \"I live in pondicherry\"\n",
        "s.split('e')"
      ],
      "metadata": {
        "colab": {
          "base_uri": "https://localhost:8080/"
        },
        "id": "8dISjyWSqgzf",
        "outputId": "776531b3-0e4c-4c8c-e031-147ca754638c"
      },
      "execution_count": null,
      "outputs": [
        {
          "output_type": "execute_result",
          "data": {
            "text/plain": [
              "['I liv', ' in pondich', 'rry']"
            ]
          },
          "metadata": {},
          "execution_count": 8
        }
      ]
    },
    {
      "cell_type": "code",
      "source": [
        "#split with limit passed\n",
        "s = \"I_ live_ in_ pondy\"\n",
        "s.split('_',2)"
      ],
      "metadata": {
        "colab": {
          "base_uri": "https://localhost:8080/"
        },
        "id": "UcJGBubjsBdq",
        "outputId": "ba88068a-7b01-42aa-ab0a-19321302e7f0"
      },
      "execution_count": null,
      "outputs": [
        {
          "output_type": "execute_result",
          "data": {
            "text/plain": [
              "['I', ' live', ' in_ pondy']"
            ]
          },
          "metadata": {},
          "execution_count": 9
        }
      ]
    },
    {
      "cell_type": "code",
      "source": [
        "#equals\n",
        "a = \"apple\"\n",
        "b = \"APPLE\"\n",
        "b = b.lower()\n",
        "if(a == b):\n",
        "  print(\"equal\")\n",
        "else:\n",
        "  print(\"not equal\")"
      ],
      "metadata": {
        "id": "-jpVlG9DNiU0",
        "outputId": "f3e1b21f-e3cb-43a3-e10b-f088e74d08c8",
        "colab": {
          "base_uri": "https://localhost:8080/"
        }
      },
      "execution_count": null,
      "outputs": [
        {
          "output_type": "stream",
          "name": "stdout",
          "text": [
            "equal\n"
          ]
        }
      ]
    },
    {
      "cell_type": "code",
      "source": [
        "#ascii\n",
        "a = \"A\"\n",
        "print(ord(a))\n",
        "b = \"a\"\n",
        "print(ord(b))\n",
        "#greater by ascii value\n",
        "if(a>b):\n",
        "  print(\"a is greater\")\n",
        "else:\n",
        "  print(\"b is greater\")"
      ],
      "metadata": {
        "id": "AZNMZPA8SD6d",
        "outputId": "701c243d-4aea-4ecb-dcf2-5bf1b3865e3b",
        "colab": {
          "base_uri": "https://localhost:8080/"
        }
      },
      "execution_count": null,
      "outputs": [
        {
          "output_type": "stream",
          "name": "stdout",
          "text": [
            "65\n",
            "97\n",
            "b is greater\n"
          ]
        }
      ]
    },
    {
      "cell_type": "code",
      "source": [
        "#replace\n",
        "s = \"apple\"\n",
        "s1 = s.replace(\"p\",\"P\",2)\n",
        "print(s1)\n",
        "print(s)"
      ],
      "metadata": {
        "id": "EJGk6zwZNiXn",
        "outputId": "f49447a0-253f-4db4-9785-1896d3551db5",
        "colab": {
          "base_uri": "https://localhost:8080/"
        }
      },
      "execution_count": null,
      "outputs": [
        {
          "output_type": "stream",
          "name": "stdout",
          "text": [
            "aPPle\n",
            "apple\n"
          ]
        }
      ]
    },
    {
      "cell_type": "code",
      "source": [
        "a = 10\n",
        "print(a)\n",
        "print(id(a))"
      ],
      "metadata": {
        "colab": {
          "base_uri": "https://localhost:8080/"
        },
        "id": "l9I2xtiS8muH",
        "outputId": "41c3dfde-f589-4222-ad05-dbe00bc30c5b"
      },
      "execution_count": null,
      "outputs": [
        {
          "output_type": "stream",
          "name": "stdout",
          "text": [
            "10\n",
            "10751144\n"
          ]
        }
      ]
    },
    {
      "cell_type": "code",
      "source": [
        "2+3"
      ],
      "metadata": {
        "colab": {
          "base_uri": "https://localhost:8080/"
        },
        "id": "456iibnZml4b",
        "outputId": "98005d39-dad6-427f-90f5-a6fad527d64b"
      },
      "execution_count": null,
      "outputs": [
        {
          "output_type": "execute_result",
          "data": {
            "text/plain": [
              "5"
            ]
          },
          "metadata": {},
          "execution_count": 2
        }
      ]
    },
    {
      "cell_type": "code",
      "source": [
        "# program to find second largest\n",
        "l = [10,20,30,40,50]\n",
        "firstlargest = max(l)\n",
        "l.remove(firstlargest)\n",
        "print(l)\n",
        "\n",
        "secondlargest = max(l)\n",
        "print(secondlargest)\n"
      ],
      "metadata": {
        "id": "ZbfgeqfmNial",
        "outputId": "a257dcee-8dfb-4c45-daaa-99a29fcb6717",
        "colab": {
          "base_uri": "https://localhost:8080/"
        }
      },
      "execution_count": null,
      "outputs": [
        {
          "output_type": "stream",
          "name": "stdout",
          "text": [
            "[10, 20, 30, 40]\n",
            "40\n"
          ]
        }
      ]
    },
    {
      "cell_type": "code",
      "source": [],
      "metadata": {
        "id": "v2TcuS1JxYpH"
      },
      "execution_count": null,
      "outputs": []
    },
    {
      "cell_type": "code",
      "source": [],
      "metadata": {
        "id": "vKyIdwRjxYs7"
      },
      "execution_count": null,
      "outputs": []
    },
    {
      "cell_type": "code",
      "source": [
        "#tuple\n",
        "l = (10,20,30,40,50)\n",
        "print(l)\n",
        "print(type(l))"
      ],
      "metadata": {
        "id": "wil4DX1FxZFW",
        "outputId": "1d19a326-9bfc-4e3e-b06a-b42ab52643a5",
        "colab": {
          "base_uri": "https://localhost:8080/"
        }
      },
      "execution_count": null,
      "outputs": [
        {
          "output_type": "stream",
          "name": "stdout",
          "text": [
            "(10, 20, 30, 40, 50)\n",
            "<class 'tuple'>\n"
          ]
        }
      ]
    },
    {
      "cell_type": "code",
      "source": [
        "#tuple is immutable\n",
        "#changing 1st index\n",
        "l = (10,20,30,40,50)\n",
        "l[0] = 100\n",
        "print(l)\n",
        "\n"
      ],
      "metadata": {
        "id": "ABSy_Umfxt4W",
        "outputId": "04a14056-c111-4e62-8367-526c32701576",
        "colab": {
          "base_uri": "https://localhost:8080/",
          "height": 211
        }
      },
      "execution_count": null,
      "outputs": [
        {
          "output_type": "error",
          "ename": "TypeError",
          "evalue": "'tuple' object does not support item assignment",
          "traceback": [
            "\u001b[0;31m---------------------------------------------------------------------------\u001b[0m",
            "\u001b[0;31mTypeError\u001b[0m                                 Traceback (most recent call last)",
            "\u001b[0;32m<ipython-input-4-b7b32ef72d62>\u001b[0m in \u001b[0;36m<cell line: 0>\u001b[0;34m()\u001b[0m\n\u001b[1;32m      2\u001b[0m \u001b[0;31m#changing 1st index\u001b[0m\u001b[0;34m\u001b[0m\u001b[0;34m\u001b[0m\u001b[0m\n\u001b[1;32m      3\u001b[0m \u001b[0ml\u001b[0m \u001b[0;34m=\u001b[0m \u001b[0;34m(\u001b[0m\u001b[0;36m10\u001b[0m\u001b[0;34m,\u001b[0m\u001b[0;36m20\u001b[0m\u001b[0;34m,\u001b[0m\u001b[0;36m30\u001b[0m\u001b[0;34m,\u001b[0m\u001b[0;36m40\u001b[0m\u001b[0;34m,\u001b[0m\u001b[0;36m50\u001b[0m\u001b[0;34m)\u001b[0m\u001b[0;34m\u001b[0m\u001b[0;34m\u001b[0m\u001b[0m\n\u001b[0;32m----> 4\u001b[0;31m \u001b[0ml\u001b[0m\u001b[0;34m[\u001b[0m\u001b[0;36m0\u001b[0m\u001b[0;34m]\u001b[0m \u001b[0;34m=\u001b[0m \u001b[0;36m100\u001b[0m\u001b[0;34m\u001b[0m\u001b[0;34m\u001b[0m\u001b[0m\n\u001b[0m\u001b[1;32m      5\u001b[0m \u001b[0mprint\u001b[0m\u001b[0;34m(\u001b[0m\u001b[0ml\u001b[0m\u001b[0;34m)\u001b[0m\u001b[0;34m\u001b[0m\u001b[0;34m\u001b[0m\u001b[0m\n\u001b[1;32m      6\u001b[0m \u001b[0;34m\u001b[0m\u001b[0m\n",
            "\u001b[0;31mTypeError\u001b[0m: 'tuple' object does not support item assignment"
          ]
        }
      ]
    },
    {
      "cell_type": "code",
      "source": [
        "#changing list to tuple\n",
        "l = [10,20,30,40,50]\n",
        "print(l)\n",
        "print(type(l))\n",
        "t= tuple(l)\n",
        "print(t)\n",
        "print(type(t))"
      ],
      "metadata": {
        "id": "COKB-RR8yYD0",
        "outputId": "231d6272-65db-4299-d5d2-b9e916976277",
        "colab": {
          "base_uri": "https://localhost:8080/"
        }
      },
      "execution_count": null,
      "outputs": [
        {
          "output_type": "stream",
          "name": "stdout",
          "text": [
            "[10, 20, 30, 40, 50]\n",
            "<class 'list'>\n",
            "(10, 20, 30, 40, 50)\n",
            "<class 'tuple'>\n"
          ]
        }
      ]
    },
    {
      "cell_type": "code",
      "source": [
        "#tuple with single element\n",
        "t = (10,)\n",
        "print(t)\n",
        "print(type(t))"
      ],
      "metadata": {
        "id": "Blky53WiyYnP",
        "outputId": "52be7f01-040d-4ebf-a9f4-f5ee042ed391",
        "colab": {
          "base_uri": "https://localhost:8080/"
        }
      },
      "execution_count": null,
      "outputs": [
        {
          "output_type": "stream",
          "name": "stdout",
          "text": [
            "(10,)\n",
            "<class 'tuple'>\n"
          ]
        }
      ]
    },
    {
      "cell_type": "code",
      "source": [
        "#tuple indexing\n",
        "t = (10,20,30,40,50,\"ntt\")\n",
        "print(t[0])\n",
        "print(t[-1])"
      ],
      "metadata": {
        "id": "L_8vP1If3pTa",
        "outputId": "51359e8a-06e5-4169-cb78-0311aa4ed6a2",
        "colab": {
          "base_uri": "https://localhost:8080/"
        }
      },
      "execution_count": null,
      "outputs": [
        {
          "output_type": "stream",
          "name": "stdout",
          "text": [
            "10\n",
            "ntt\n"
          ]
        }
      ]
    },
    {
      "cell_type": "code",
      "source": [
        "#concatenation [new tuple after modification]\n",
        "t1 = (10,20,30,3.3,\"ntt\")\n",
        "newtuple = t1 + (32,54)\n",
        "print(newtuple)\n",
        "print(t1)"
      ],
      "metadata": {
        "id": "o0acfVHs4DT9",
        "outputId": "9c3bd912-8ea9-42ea-f09c-526dc0d501e9",
        "colab": {
          "base_uri": "https://localhost:8080/"
        }
      },
      "execution_count": null,
      "outputs": [
        {
          "output_type": "stream",
          "name": "stdout",
          "text": [
            "(10, 20, 30, 3.3, 'ntt', 32, 54)\n",
            "(10, 20, 30, 3.3, 'ntt')\n"
          ]
        }
      ]
    },
    {
      "cell_type": "code",
      "source": [
        "t = (10,20,30,40,50)\n",
        "for i in t:\n",
        "  print(i)"
      ],
      "metadata": {
        "id": "xIKyKjoz5-RD",
        "outputId": "daf0ed46-053c-4927-b203-2f37ad7b16b4",
        "colab": {
          "base_uri": "https://localhost:8080/"
        }
      },
      "execution_count": null,
      "outputs": [
        {
          "output_type": "stream",
          "name": "stdout",
          "text": [
            "10\n",
            "20\n",
            "30\n",
            "40\n",
            "50\n"
          ]
        }
      ]
    },
    {
      "cell_type": "code",
      "source": [
        "#tuple slicing\n",
        "t = (10,20,30,40,50)\n",
        "print(t[::])\n",
        "print(t[::-1])"
      ],
      "metadata": {
        "id": "aGnqIV7L4DCt",
        "outputId": "6ad73322-2a58-406e-b06f-7c961354ad93",
        "colab": {
          "base_uri": "https://localhost:8080/"
        }
      },
      "execution_count": null,
      "outputs": [
        {
          "output_type": "stream",
          "name": "stdout",
          "text": [
            "(10, 20, 30, 40, 50)\n",
            "(50, 40, 30, 20, 10)\n"
          ]
        }
      ]
    },
    {
      "cell_type": "code",
      "source": [
        "#checking memorysize\n",
        "import sys\n",
        "\n",
        "list1 = [10,20,30,40,50]\n",
        "tuple1 = (10,20,30,40,50)\n",
        "\n",
        "print(\"size of list\",sys.getsizeof(list1))\n",
        "print(\"size of tuple\",sys.getsizeof(tuple1))"
      ],
      "metadata": {
        "id": "RHNJSuVU6ImO",
        "outputId": "158b5b54-14c6-4df4-f59d-c05421270766",
        "colab": {
          "base_uri": "https://localhost:8080/"
        }
      },
      "execution_count": null,
      "outputs": [
        {
          "output_type": "stream",
          "name": "stdout",
          "text": [
            "size of list 104\n",
            "size of tuple 80\n"
          ]
        }
      ]
    },
    {
      "cell_type": "code",
      "source": [
        "#dictionary\n",
        "\n",
        "dict1 = {5:\"dsf\" , 6:\"dsfg\"}\n",
        "print(dict1)\n",
        "print(type(dict1))"
      ],
      "metadata": {
        "id": "bCJJAaLj9ZDh",
        "outputId": "e7d71af5-72a0-48b2-e9bb-5b2059f2d024",
        "colab": {
          "base_uri": "https://localhost:8080/"
        }
      },
      "execution_count": null,
      "outputs": [
        {
          "output_type": "stream",
          "name": "stdout",
          "text": [
            "{5: 'dsf', 6: 'dsfg'}\n",
            "<class 'dict'>\n"
          ]
        }
      ]
    },
    {
      "cell_type": "code",
      "source": [
        "#access dictionary\n",
        "dict1 = {\"pp\":\"aaa\", \"qq\":\"bbb\"}\n",
        "print(dict1)\n",
        "print(type(dict1))\n",
        "print(dict1[\"pp\"])\n"
      ],
      "metadata": {
        "id": "Cr96ctpi-zoa",
        "outputId": "3d1e745f-8c94-4004-b570-a296db8a4ade",
        "colab": {
          "base_uri": "https://localhost:8080/"
        }
      },
      "execution_count": null,
      "outputs": [
        {
          "output_type": "stream",
          "name": "stdout",
          "text": [
            "{'pp': 'aaa', 'qq': 'bbb'}\n",
            "<class 'dict'>\n",
            "aaa\n"
          ]
        }
      ]
    },
    {
      "cell_type": "code",
      "source": [
        "###simple function\n",
        "def fun():\n",
        "  print(\"hello\")\n",
        "  print(\"welcome\")\n",
        "\n",
        "print(\"before function call\")\n",
        "print(fun())\n",
        "print(\"after function call\")\n"
      ],
      "metadata": {
        "id": "FOMiR1khZJCU",
        "outputId": "191c75fc-ddf0-44c7-81a4-440bb89af6a9",
        "colab": {
          "base_uri": "https://localhost:8080/"
        }
      },
      "execution_count": 2,
      "outputs": [
        {
          "output_type": "stream",
          "name": "stdout",
          "text": [
            "before function call\n",
            "hello\n",
            "welcome\n",
            "None\n",
            "after function call\n"
          ]
        }
      ]
    },
    {
      "cell_type": "code",
      "source": [
        "###simple function\n",
        "def fun():\n",
        "  print(\"hello\")\n",
        "  print(\"welcome\")\n",
        "\n",
        "print(\"before function call\")\n",
        "fun()\n",
        "print(\"after function call\")"
      ],
      "metadata": {
        "id": "bAxgwrU_ZJbU",
        "outputId": "53fb5303-3883-4cf5-8c29-b61cd0c7c2fb",
        "colab": {
          "base_uri": "https://localhost:8080/"
        }
      },
      "execution_count": 3,
      "outputs": [
        {
          "output_type": "stream",
          "name": "stdout",
          "text": [
            "before function call\n",
            "hello\n",
            "welcome\n",
            "after function call\n"
          ]
        }
      ]
    },
    {
      "cell_type": "code",
      "source": [
        "#square program[without argument and without return value]\n",
        "def square():\n",
        "  x=int(input(\"enter the number\"))\n",
        "  print(x*x)\n",
        "\n",
        "square()\n"
      ],
      "metadata": {
        "id": "OT62LGwVcocN",
        "outputId": "8c84ea07-eaac-4b9b-d64f-8430e8a71698",
        "colab": {
          "base_uri": "https://localhost:8080/"
        }
      },
      "execution_count": 7,
      "outputs": [
        {
          "output_type": "stream",
          "name": "stdout",
          "text": [
            "enter the number5\n",
            "25\n"
          ]
        }
      ]
    },
    {
      "cell_type": "code",
      "source": [
        "#square program[with argument and with return value]\n",
        "\n",
        "def square(x):\n",
        "  return x**2\n",
        "\n",
        "x=int(input(\"enter the number\"))\n",
        "result = square(x)\n",
        "print(result)\n"
      ],
      "metadata": {
        "id": "qfZoqaSFduwq",
        "outputId": "9ceb786a-eacc-4ee8-ff91-c83d907d1230",
        "colab": {
          "base_uri": "https://localhost:8080/"
        }
      },
      "execution_count": 8,
      "outputs": [
        {
          "output_type": "stream",
          "name": "stdout",
          "text": [
            "enter the number5\n",
            "25\n"
          ]
        }
      ]
    },
    {
      "cell_type": "code",
      "source": [
        "#square program[with argument and without return value]\n",
        "\n",
        "def square(x):\n",
        "  y = x**2\n",
        "  print(\"square of\",x,\"is\",y)\n",
        "\n",
        "x = int(input(\"enter the number\"))\n",
        "square(x)"
      ],
      "metadata": {
        "id": "Pibn1uaxeasg",
        "outputId": "e5a93036-8bc5-40e0-a242-8e0dced0b330",
        "colab": {
          "base_uri": "https://localhost:8080/"
        }
      },
      "execution_count": 9,
      "outputs": [
        {
          "output_type": "stream",
          "name": "stdout",
          "text": [
            "enter the number5\n",
            "square of 5 is 25\n"
          ]
        }
      ]
    },
    {
      "cell_type": "code",
      "source": [
        "#square program[without argument and with return value]\n",
        "\n",
        "def square():\n",
        "  x = int(input(\"enter the number\"))\n",
        "  y = x**2\n",
        "  return y\n",
        "\n",
        "result = square()\n",
        "print(result)"
      ],
      "metadata": {
        "id": "pvpmL8E0ftrK",
        "outputId": "cb35fe58-774c-4e20-db21-39f50ca9fadc",
        "colab": {
          "base_uri": "https://localhost:8080/"
        }
      },
      "execution_count": 10,
      "outputs": [
        {
          "output_type": "stream",
          "name": "stdout",
          "text": [
            "enter the number5\n",
            "25\n"
          ]
        }
      ]
    },
    {
      "cell_type": "code",
      "source": [
        "#return statement\n",
        "\n",
        "def test(a,b,c,d):\n",
        "  return a,b,c,d\n",
        "\n",
        "x,y,z,w = test(10,20,30,40)\n",
        "print(x,y,z,w)"
      ],
      "metadata": {
        "id": "h2EG-oUjgojO",
        "outputId": "f0188d8d-357c-43ee-dbcd-82b9495e9a21",
        "colab": {
          "base_uri": "https://localhost:8080/"
        }
      },
      "execution_count": 11,
      "outputs": [
        {
          "output_type": "stream",
          "name": "stdout",
          "text": [
            "10 20 30 40\n"
          ]
        }
      ]
    },
    {
      "cell_type": "code",
      "source": [
        "# return with list and tuple\n",
        "\n",
        "def test1():\n",
        "  l1 = [10,20,30,40]\n",
        "  t1 = (50,60,70)\n",
        "  return l1,t1\n",
        "\n",
        "x, y = test1()\n",
        "print(x,y)\n",
        "# to check type of l1,t1\n",
        "print(type(x))\n",
        "print(type(y))"
      ],
      "metadata": {
        "id": "SP46sk3shkDh",
        "outputId": "0d28fa56-0e53-4081-ba3c-f3e30816aa72",
        "colab": {
          "base_uri": "https://localhost:8080/"
        }
      },
      "execution_count": 13,
      "outputs": [
        {
          "output_type": "stream",
          "name": "stdout",
          "text": [
            "[10, 20, 30, 40] (50, 60, 70)\n",
            "<class 'list'>\n",
            "<class 'tuple'>\n"
          ]
        }
      ]
    },
    {
      "cell_type": "code",
      "source": [
        "# return with list and tuple[generally combined as tuple]\n",
        "\n",
        "def test1():\n",
        "  l1 = [10,20,30,40]\n",
        "  t1 = (50,60,70)\n",
        "  return l1,t1\n",
        "\n",
        "x = test1()\n",
        "print(x)\n",
        "# to check type of l1,t1\n",
        "print(type(x))"
      ],
      "metadata": {
        "id": "fPjl1F1jjY5k",
        "outputId": "08d43915-cfef-4f08-c0a0-c6f8e4b5a41e",
        "colab": {
          "base_uri": "https://localhost:8080/"
        }
      },
      "execution_count": 14,
      "outputs": [
        {
          "output_type": "stream",
          "name": "stdout",
          "text": [
            "([10, 20, 30, 40], (50, 60, 70))\n",
            "<class 'tuple'>\n"
          ]
        }
      ]
    }
  ]
}